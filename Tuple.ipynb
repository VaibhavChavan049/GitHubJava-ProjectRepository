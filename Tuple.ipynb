{
  "nbformat": 4,
  "nbformat_minor": 0,
  "metadata": {
    "colab": {
      "provenance": [],
      "authorship_tag": "ABX9TyMKZs2U+H21zzmdc3oCaTpC",
      "include_colab_link": true
    },
    "kernelspec": {
      "name": "python3",
      "display_name": "Python 3"
    },
    "language_info": {
      "name": "python"
    }
  },
  "cells": [
    {
      "cell_type": "markdown",
      "metadata": {
        "id": "view-in-github",
        "colab_type": "text"
      },
      "source": [
        "<a href=\"https://colab.research.google.com/github/VaibhavChavan049/GitHubJava-ProjectRepository/blob/main/Tuple.ipynb\" target=\"_parent\"><img src=\"https://colab.research.google.com/assets/colab-badge.svg\" alt=\"Open In Colab\"/></a>"
      ]
    },
    {
      "cell_type": "code",
      "execution_count": 1,
      "metadata": {
        "colab": {
          "base_uri": "https://localhost:8080/"
        },
        "id": "RbdfR2abbv2A",
        "outputId": "0e0cb6ff-b23e-4843-b7e1-c20b60fc7485"
      },
      "outputs": [
        {
          "output_type": "stream",
          "name": "stdout",
          "text": [
            "[1, 5, 8, 5, 6, 54, 'Data', 45, 5, 7, 4, 1, 'Data', 2, 5, 4, 'Data', 8, 6]\n",
            "[1, 5, 8, 5, 6, 54, 'Data', 45, 5, 7, 4, 1, 'Data', 2, 5, 4, 'Data', 8, 6]\n",
            "[1, 5, 8, 5, 6, 54, 'Data', 45, 5, 7, 4, 1, 'Data', 2, 5, 4, 'Data', 8, 6]\n"
          ]
        }
      ],
      "source": [
        "list1 = [1,5,8,5,6,54,'Data', 45, 5,7,4,1, 'Data', 2,5,4, 'Data', 8, 6]\n",
        "print(list1)\n",
        "list2=list1.copy()\n",
        "print(list2)\n",
        "list3=list1\n",
        "print(list3)"
      ]
    },
    {
      "cell_type": "code",
      "source": [
        "list1 = [1,5,8,5,6,54,'Data', 45, 5,7,4,1, 'Data', 2,5,4, 'Data', 8, 6]\n",
        "print(list1)\n",
        "list2=('The address of list1 is', id(list1))\n",
        "list2=list1.copy()\n",
        "print(list2)\n",
        "list2=('The address of list2 is', id(list2))\n",
        "list3=list1\n",
        "print(list3)\n",
        "list3=('The address of list3 is', id(list3))"
      ],
      "metadata": {
        "id": "E6pgmMSWdjnm"
      },
      "execution_count": null,
      "outputs": []
    },
    {
      "cell_type": "code",
      "source": [
        "list1.clear()\n",
        "print(list1)"
      ],
      "metadata": {
        "colab": {
          "base_uri": "https://localhost:8080/"
        },
        "id": "FUvj3T5xcqfM",
        "outputId": "924dbf6f-4acd-433a-f8a7-5888da84ad66"
      },
      "execution_count": 2,
      "outputs": [
        {
          "output_type": "stream",
          "name": "stdout",
          "text": [
            "[]\n"
          ]
        }
      ]
    },
    {
      "cell_type": "code",
      "source": [
        "print(list2)"
      ],
      "metadata": {
        "colab": {
          "base_uri": "https://localhost:8080/"
        },
        "id": "13QgnWEgc196",
        "outputId": "0ad506d9-4756-48f8-c400-df8039bb6f5c"
      },
      "execution_count": 3,
      "outputs": [
        {
          "output_type": "stream",
          "name": "stdout",
          "text": [
            "[1, 5, 8, 5, 6, 54, 'Data', 45, 5, 7, 4, 1, 'Data', 2, 5, 4, 'Data', 8, 6]\n"
          ]
        }
      ]
    },
    {
      "cell_type": "code",
      "source": [
        "print(list3)"
      ],
      "metadata": {
        "colab": {
          "base_uri": "https://localhost:8080/"
        },
        "id": "8z-eVRhAeL-u",
        "outputId": "7cd2db96-0687-4ef5-e672-38b486f12a25"
      },
      "execution_count": 4,
      "outputs": [
        {
          "output_type": "stream",
          "name": "stdout",
          "text": [
            "[]\n"
          ]
        }
      ]
    },
    {
      "cell_type": "code",
      "source": [
        "list1 = [1,2,3,4,5]\n",
        "print(list1)\n",
        "list1[3] = 34\n",
        "print(list1)"
      ],
      "metadata": {
        "colab": {
          "base_uri": "https://localhost:8080/"
        },
        "id": "vh88693uePnp",
        "outputId": "96306484-79ed-4d8e-8586-ecff81cb02fc"
      },
      "execution_count": 6,
      "outputs": [
        {
          "output_type": "stream",
          "name": "stdout",
          "text": [
            "[1, 2, 3, 4, 5]\n",
            "[1, 2, 3, 34, 5]\n"
          ]
        }
      ]
    },
    {
      "cell_type": "markdown",
      "source": [
        "**Tuple Data Structure**"
      ],
      "metadata": {
        "id": "c7fSedkFeu91"
      }
    },
    {
      "cell_type": "code",
      "source": [
        "tup1 = (5,2,4,78.2, 7.1, True, False, 5j, 7+    1j, 'Data', 'Scienece')\n",
        "print(tup1)"
      ],
      "metadata": {
        "colab": {
          "base_uri": "https://localhost:8080/"
        },
        "id": "uwmAqPvte9tU",
        "outputId": "05e3aed6-4741-4987-c28b-1c1c1e4364d9"
      },
      "execution_count": 7,
      "outputs": [
        {
          "output_type": "stream",
          "name": "stdout",
          "text": [
            "(5, 2, 4, 78.2, 7.1, True, False, 5j, (7+1j), 'Data', 'Scienece')\n"
          ]
        }
      ]
    },
    {
      "cell_type": "code",
      "source": [
        "tup1[3]"
      ],
      "metadata": {
        "colab": {
          "base_uri": "https://localhost:8080/"
        },
        "id": "B2sqdncOfvUp",
        "outputId": "12029d8d-da7e-4fb8-e12a-903082691ad9"
      },
      "execution_count": 8,
      "outputs": [
        {
          "output_type": "execute_result",
          "data": {
            "text/plain": [
              "78.2"
            ]
          },
          "metadata": {},
          "execution_count": 8
        }
      ]
    },
    {
      "cell_type": "code",
      "source": [
        "tup1[3]=9.1"
      ],
      "metadata": {
        "colab": {
          "base_uri": "https://localhost:8080/",
          "height": 141
        },
        "id": "njGH0lZagAsH",
        "outputId": "2bf9de9e-335f-4381-c353-71e2be809cc6"
      },
      "execution_count": 24,
      "outputs": [
        {
          "output_type": "error",
          "ename": "AttributeError",
          "evalue": "'tuple' object has no attribute 'add'",
          "traceback": [
            "\u001b[0;31m---------------------------------------------------------------------------\u001b[0m",
            "\u001b[0;31mAttributeError\u001b[0m                            Traceback (most recent call last)",
            "\u001b[0;32m<ipython-input-24-f7d50533db23>\u001b[0m in \u001b[0;36m<cell line: 1>\u001b[0;34m()\u001b[0m\n\u001b[0;32m----> 1\u001b[0;31m \u001b[0mtup1\u001b[0m\u001b[0;34m.\u001b[0m\u001b[0madd\u001b[0m\u001b[0;34m(\u001b[0m\u001b[0;36m2\u001b[0m\u001b[0;34m)\u001b[0m\u001b[0;34m\u001b[0m\u001b[0;34m\u001b[0m\u001b[0m\n\u001b[0m",
            "\u001b[0;31mAttributeError\u001b[0m: 'tuple' object has no attribute 'add'"
          ]
        }
      ]
    },
    {
      "cell_type": "code",
      "source": [
        "tup1=(4,5,2,1,8,6,5,7,4,2,5,4, 'Python', 5,5,8,52,5,8,8,8, 'Data ,1,1,4,465,4')\n",
        "tup1.index(Python)"
      ],
      "metadata": {
        "colab": {
          "base_uri": "https://localhost:8080/"
        },
        "id": "GlpkQyingTGW",
        "outputId": "11b1a4a2-4e43-4dd5-acee-b8d9d8131b3f"
      },
      "execution_count": 10,
      "outputs": [
        {
          "output_type": "execute_result",
          "data": {
            "text/plain": [
              "12"
            ]
          },
          "metadata": {},
          "execution_count": 10
        }
      ]
    },
    {
      "cell_type": "code",
      "source": [
        "tup1.count(5)"
      ],
      "metadata": {
        "colab": {
          "base_uri": "https://localhost:8080/"
        },
        "id": "e9UadkiohbaF",
        "outputId": "1852ce22-1e45-40b3-ea54-f4d0f4670c29"
      },
      "execution_count": 12,
      "outputs": [
        {
          "output_type": "execute_result",
          "data": {
            "text/plain": [
              "6"
            ]
          },
          "metadata": {},
          "execution_count": 12
        }
      ]
    },
    {
      "cell_type": "code",
      "source": [
        "tup1.count(2)"
      ],
      "metadata": {
        "colab": {
          "base_uri": "https://localhost:8080/"
        },
        "id": "4utLsP6FhfLm",
        "outputId": "ecb55471-3afd-4442-bfa2-0d7ae640df33"
      },
      "execution_count": 13,
      "outputs": [
        {
          "output_type": "execute_result",
          "data": {
            "text/plain": [
              "2"
            ]
          },
          "metadata": {},
          "execution_count": 13
        }
      ]
    },
    {
      "cell_type": "code",
      "source": [
        "tup1 = (8)\n",
        "print(tup1)\n",
        "print(type(tup1))\n",
        "print('-----------')\n",
        "tup1 = (8,)\n",
        "print(tup1)\n",
        "print(type(tup1))"
      ],
      "metadata": {
        "colab": {
          "base_uri": "https://localhost:8080/"
        },
        "id": "OiyZQNNmhrg_",
        "outputId": "af8b2abb-e7bd-4b9c-931c-07725a14312b"
      },
      "execution_count": 14,
      "outputs": [
        {
          "output_type": "stream",
          "name": "stdout",
          "text": [
            "8\n",
            "<class 'int'>\n",
            "-----------\n",
            "(8,)\n",
            "<class 'tuple'>\n"
          ]
        }
      ]
    },
    {
      "cell_type": "code",
      "source": [
        "tup1=1,4,5,2,3\n",
        "print(tup1)\n",
        "print(tup1*5)"
      ],
      "metadata": {
        "colab": {
          "base_uri": "https://localhost:8080/"
        },
        "id": "YfDn2ZwoiIX2",
        "outputId": "c8b7c56d-d16d-460f-8d9d-fb4f92bbf77c"
      },
      "execution_count": 15,
      "outputs": [
        {
          "output_type": "stream",
          "name": "stdout",
          "text": [
            "(1, 4, 5, 2, 3)\n",
            "(1, 4, 5, 2, 3, 1, 4, 5, 2, 3, 1, 4, 5, 2, 3, 1, 4, 5, 2, 3, 1, 4, 5, 2, 3)\n"
          ]
        }
      ]
    },
    {
      "cell_type": "code",
      "source": [
        "tup1 = (2,5,1,4,5,4)\n",
        "tup2 = (5,8,6,3,2,4)\n",
        "tup3 = tup1+tup2\n",
        "print(tup1)\n",
        "print(tup2)\n",
        "print(tup3)"
      ],
      "metadata": {
        "colab": {
          "base_uri": "https://localhost:8080/"
        },
        "id": "C3L984j8ivBE",
        "outputId": "71b5a1ac-7f71-4373-f6c8-b58cfa2f8045"
      },
      "execution_count": 16,
      "outputs": [
        {
          "output_type": "stream",
          "name": "stdout",
          "text": [
            "(2, 5, 1, 4, 5, 4)\n",
            "(5, 8, 6, 3, 2, 4)\n",
            "(2, 5, 1, 4, 5, 4, 5, 8, 6, 3, 2, 4)\n"
          ]
        }
      ]
    },
    {
      "cell_type": "markdown",
      "source": [
        "**# Dictionary Data Structure**"
      ],
      "metadata": {
        "id": "qphf61nOkDWr"
      }
    },
    {
      "cell_type": "code",
      "source": [
        "dic1 = {'Name' : 'ExcelR','Floor':3, 'classroom':'Einstein', 'Room No': 3, 'Building':'safe plaza',\n",
        "        'Area':'BTM Layout', 'Name': 'ExcelR Edtech' }\n",
        "dic1"
      ],
      "metadata": {
        "colab": {
          "base_uri": "https://localhost:8080/"
        },
        "id": "LeS7HVWEkNCd",
        "outputId": "caacb095-8af0-4fd5-fae4-0742178d5567"
      },
      "execution_count": 18,
      "outputs": [
        {
          "output_type": "execute_result",
          "data": {
            "text/plain": [
              "{'Name': 'ExcelR Edtech',\n",
              " 'Floor': 3,\n",
              " 'classroom': 'Einstein',\n",
              " 'Room No': 3,\n",
              " 'Building': 'safe plaza',\n",
              " 'Area': 'BTM Layout'}"
            ]
          },
          "metadata": {},
          "execution_count": 18
        }
      ]
    },
    {
      "cell_type": "code",
      "source": [
        "dic1['Building']"
      ],
      "metadata": {
        "colab": {
          "base_uri": "https://localhost:8080/",
          "height": 36
        },
        "id": "waS-kLYFk-9X",
        "outputId": "ab6671bb-0a23-4b09-de5e-b7b64feb2020"
      },
      "execution_count": 19,
      "outputs": [
        {
          "output_type": "execute_result",
          "data": {
            "text/plain": [
              "'safe plaza'"
            ],
            "application/vnd.google.colaboratory.intrinsic+json": {
              "type": "string"
            }
          },
          "metadata": {},
          "execution_count": 19
        }
      ]
    },
    {
      "cell_type": "code",
      "source": [
        "dic1['Name']"
      ],
      "metadata": {
        "colab": {
          "base_uri": "https://localhost:8080/",
          "height": 36
        },
        "id": "0xB5A5eCnAYX",
        "outputId": "9709d4c8-acc0-49d1-8964-e17c5e70cfe8"
      },
      "execution_count": 20,
      "outputs": [
        {
          "output_type": "execute_result",
          "data": {
            "text/plain": [
              "'ExcelR Edtech'"
            ],
            "application/vnd.google.colaboratory.intrinsic+json": {
              "type": "string"
            }
          },
          "metadata": {},
          "execution_count": 20
        }
      ]
    },
    {
      "cell_type": "code",
      "source": [
        "dic1[3]"
      ],
      "metadata": {
        "colab": {
          "base_uri": "https://localhost:8080/",
          "height": 141
        },
        "id": "y4J5bdwwnEDh",
        "outputId": "1c13d4b8-1ea0-4a40-aa98-b444d105049e"
      },
      "execution_count": 21,
      "outputs": [
        {
          "output_type": "error",
          "ename": "KeyError",
          "evalue": "3",
          "traceback": [
            "\u001b[0;31m---------------------------------------------------------------------------\u001b[0m",
            "\u001b[0;31mKeyError\u001b[0m                                  Traceback (most recent call last)",
            "\u001b[0;32m<ipython-input-21-93f80f526fe6>\u001b[0m in \u001b[0;36m<cell line: 1>\u001b[0;34m()\u001b[0m\n\u001b[0;32m----> 1\u001b[0;31m \u001b[0mdic1\u001b[0m\u001b[0;34m[\u001b[0m\u001b[0;36m3\u001b[0m\u001b[0;34m]\u001b[0m\u001b[0;34m\u001b[0m\u001b[0;34m\u001b[0m\u001b[0m\n\u001b[0m",
            "\u001b[0;31mKeyError\u001b[0m: 3"
          ]
        }
      ]
    },
    {
      "cell_type": "code",
      "source": [
        "dic1.keys()"
      ],
      "metadata": {
        "colab": {
          "base_uri": "https://localhost:8080/"
        },
        "id": "4c8k4modnbTP",
        "outputId": "dbc89913-fedb-437a-cf9f-d76bf7fdb40d"
      },
      "execution_count": 25,
      "outputs": [
        {
          "output_type": "execute_result",
          "data": {
            "text/plain": [
              "dict_keys(['Name', 'Floor', 'classroom', 'Room No', 'Building', 'Area'])"
            ]
          },
          "metadata": {},
          "execution_count": 25
        }
      ]
    },
    {
      "cell_type": "code",
      "source": [
        "dic1.values()"
      ],
      "metadata": {
        "colab": {
          "base_uri": "https://localhost:8080/"
        },
        "id": "KoGOk1d7oU7B",
        "outputId": "fada6bd9-f233-45a1-d0f7-8865bf495364"
      },
      "execution_count": 26,
      "outputs": [
        {
          "output_type": "execute_result",
          "data": {
            "text/plain": [
              "dict_values(['ExcelR Edtech', 3, 'Einstein', 3, 'safe plaza', 'BTM Layout'])"
            ]
          },
          "metadata": {},
          "execution_count": 26
        }
      ]
    },
    {
      "cell_type": "code",
      "source": [
        "dic1.items()"
      ],
      "metadata": {
        "colab": {
          "base_uri": "https://localhost:8080/"
        },
        "id": "ftNNIazpoWxF",
        "outputId": "e4e8af56-6a71-4e2a-dd49-8aa5f2167ac1"
      },
      "execution_count": 27,
      "outputs": [
        {
          "output_type": "execute_result",
          "data": {
            "text/plain": [
              "dict_items([('Name', 'ExcelR Edtech'), ('Floor', 3), ('classroom', 'Einstein'), ('Room No', 3), ('Building', 'safe plaza'), ('Area', 'BTM Layout')])"
            ]
          },
          "metadata": {},
          "execution_count": 27
        }
      ]
    },
    {
      "cell_type": "code",
      "source": [
        "list(range(10))\n"
      ],
      "metadata": {
        "colab": {
          "base_uri": "https://localhost:8080/"
        },
        "id": "RISNJPAgoY53",
        "outputId": "865ebb66-fed8-42b4-c8bd-5d487ecd7550"
      },
      "execution_count": 30,
      "outputs": [
        {
          "output_type": "execute_result",
          "data": {
            "text/plain": [
              "[0, 1, 2, 3, 4, 5, 6, 7, 8, 9]"
            ]
          },
          "metadata": {},
          "execution_count": 30
        }
      ]
    },
    {
      "cell_type": "code",
      "source": [
        "dic2 = {'List1': list(range(10)), 'List2': list(range(8)),\n",
        "        'Tup1' : tuple(range(5)), 'Dic3' : {'Student1' : 'Neha', 'Student2' : 'Akash'}}\n",
        "dic2"
      ],
      "metadata": {
        "colab": {
          "base_uri": "https://localhost:8080/"
        },
        "id": "KOWDq9mmo1Y4",
        "outputId": "6b0a5bff-a683-408e-8a81-4c53adad16f9"
      },
      "execution_count": 32,
      "outputs": [
        {
          "output_type": "execute_result",
          "data": {
            "text/plain": [
              "{'List1': [0, 1, 2, 3, 4, 5, 6, 7, 8, 9],\n",
              " 'List2': [0, 1, 2, 3, 4, 5, 6, 7],\n",
              " 'Tup1': (0, 1, 2, 3, 4),\n",
              " 'Dic3': {'Student1': 'Neha', 'Student2': 'Akash'}}"
            ]
          },
          "metadata": {},
          "execution_count": 32
        }
      ]
    },
    {
      "cell_type": "code",
      "source": [
        "dic1 = {'Name' : 'ExcelR','Floor':3, 'classroom':'Einstein', 'Room No': 3, 'Building':'safe plaza',\n",
        "        'Area':'BTM Layout', 'Name': 'ExcelR Edtech' }\n",
        "print(dic1)\n",
        "dic1.popitem()\n",
        "print(dic1)"
      ],
      "metadata": {
        "colab": {
          "base_uri": "https://localhost:8080/"
        },
        "id": "IBm2ehofqLv_",
        "outputId": "dfad2faf-68c0-45af-bec0-a1640c57e136"
      },
      "execution_count": 33,
      "outputs": [
        {
          "output_type": "stream",
          "name": "stdout",
          "text": [
            "{'Name': 'ExcelR Edtech', 'Floor': 3, 'classroom': 'Einstein', 'Room No': 3, 'Building': 'safe plaza', 'Area': 'BTM Layout'}\n",
            "{'Name': 'ExcelR Edtech', 'Floor': 3, 'classroom': 'Einstein', 'Room No': 3, 'Building': 'safe plaza'}\n"
          ]
        }
      ]
    },
    {
      "cell_type": "code",
      "source": [
        "print(dic1)\n",
        "dic1['Classroom']='Aryabhatta'\n",
        "print(dic1)\n"
      ],
      "metadata": {
        "colab": {
          "base_uri": "https://localhost:8080/"
        },
        "id": "IjwT7_5KwwNP",
        "outputId": "5965713a-07fc-440f-cb1d-e72d569f6183"
      },
      "execution_count": 35,
      "outputs": [
        {
          "output_type": "stream",
          "name": "stdout",
          "text": [
            "{'Name': 'ExcelR Edtech', 'Floor': 3, 'classroom': 'Einstein', 'Room No': 3, 'Building': 'safe plaza'}\n",
            "{'Name': 'ExcelR Edtech', 'Floor': 3, 'classroom': 'Einstein', 'Room No': 3, 'Building': 'safe plaza', 'Classroom': 'Aryabhatta'}\n"
          ]
        }
      ]
    },
    {
      "cell_type": "code",
      "source": [
        "dic1 = {'Name' : 'ExcelR','Floor':3, 'classroom':'Einstein', 'Room No': 3, 'Building':'safe plaza',\n",
        "        'Area':'BTM Layout', 'Name': 'ExcelR Edtech' }\n",
        "print(dic1)\n",
        "dic2= {'City' : 'Banglore', 'Zipcode' : 560068}\n",
        "print(dic2)\n",
        "dic1.update(dic2)\n",
        "print(dic1)"
      ],
      "metadata": {
        "colab": {
          "base_uri": "https://localhost:8080/"
        },
        "id": "bJUTVlaHw9U0",
        "outputId": "23b36abf-a5fe-4f20-cfd6-b8cc4ac872b3"
      },
      "execution_count": 38,
      "outputs": [
        {
          "output_type": "stream",
          "name": "stdout",
          "text": [
            "{'Name': 'ExcelR Edtech', 'Floor': 3, 'classroom': 'Einstein', 'Room No': 3, 'Building': 'safe plaza', 'Area': 'BTM Layout'}\n",
            "{'City': 'Banglore', 'Zipcode': 560068}\n",
            "{'Name': 'ExcelR Edtech', 'Floor': 3, 'classroom': 'Einstein', 'Room No': 3, 'Building': 'safe plaza', 'Area': 'BTM Layout', 'City': 'Banglore', 'Zipcode': 560068}\n"
          ]
        }
      ]
    },
    {
      "cell_type": "code",
      "source": [
        "dic1={'Name' : 'ExcelR','Floor':3, 'classroom':'Einstein', 'Room No': 3, 'Building':'safe plaza',\n",
        "        'Area':'BTM Layout' }\n",
        "print(dic1)\n",
        "dic1.setdefault('Floor',4)\n",
        "print(dic1)\n",
        "dic1.setdefault('State', 'Karnataka')\n",
        "print(dic1)"
      ],
      "metadata": {
        "colab": {
          "base_uri": "https://localhost:8080/"
        },
        "id": "-Q8DISz0ynRX",
        "outputId": "6a11ce9e-57a8-4608-b12b-aa07497636cc"
      },
      "execution_count": 42,
      "outputs": [
        {
          "output_type": "stream",
          "name": "stdout",
          "text": [
            "{'Name': 'ExcelR', 'Floor': 3, 'classroom': 'Einstein', 'Room No': 3, 'Building': 'safe plaza', 'Area': 'BTM Layout'}\n",
            "{'Name': 'ExcelR', 'Floor': 3, 'classroom': 'Einstein', 'Room No': 3, 'Building': 'safe plaza', 'Area': 'BTM Layout', 'Foor': 4}\n",
            "{'Name': 'ExcelR', 'Floor': 3, 'classroom': 'Einstein', 'Room No': 3, 'Building': 'safe plaza', 'Area': 'BTM Layout', 'Foor': 4, 'State': 'Karnataka'}\n"
          ]
        }
      ]
    },
    {
      "cell_type": "code",
      "source": [
        "#After 'Building' key and before 'Area', add another key: value pair as shown: 'Landmark' : 'opp Tata Motors'"
      ],
      "metadata": {
        "id": "6lEAnpE40Wfw"
      },
      "execution_count": null,
      "outputs": []
    },
    {
      "cell_type": "code",
      "source": [
        "dic1={'Building':'safe plaza','Landmark': 'Opp Tata Motors',\n",
        "        'Area':'BTM Layout' }\n",
        "print(dic1)\n",
        "dic1.setdefault('Floor',4)\n",
        "print(dic1)\n",
        "dic1.setdefault('State', 'Karnataka')\n",
        "print(dic1)"
      ],
      "metadata": {
        "colab": {
          "base_uri": "https://localhost:8080/"
        },
        "id": "iX51glbQ1LET",
        "outputId": "3ed8f39d-ca5b-4038-d89f-d374c8f44572"
      },
      "execution_count": 44,
      "outputs": [
        {
          "output_type": "stream",
          "name": "stdout",
          "text": [
            "{'Building': 'safe plaza', 'Landmark': 'Opp Tata Motors', 'Area': 'BTM Layout'}\n"
          ]
        }
      ]
    },
    {
      "cell_type": "code",
      "source": [],
      "metadata": {
        "id": "ye8fLsJx1vtz"
      },
      "execution_count": null,
      "outputs": []
    }
  ]
}